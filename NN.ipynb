{
 "cells": [
  {
   "cell_type": "code",
   "execution_count": 1,
   "metadata": {},
   "outputs": [],
   "source": [
    "import math\n",
    "import random\n",
    "from TicTacToe import TicTacToe4x4x4 as TicTacToe\n",
    "\n",
    "import csv\n",
    "from tqdm import tqdm"
   ]
  },
  {
   "cell_type": "code",
   "execution_count": 2,
   "metadata": {},
   "outputs": [],
   "source": [
    "def reshape_observations(observation):\n",
    "    # Flatten the 3-dimensional list\n",
    "    flattened_list = [\n",
    "        item\n",
    "        for sublist in [inner for outer in observation for inner in outer]\n",
    "        for item in sublist\n",
    "    ]\n",
    "    processed = \"\".join(flattened_list)\n",
    "\n",
    "    return processed"
   ]
  },
  {
   "cell_type": "code",
   "execution_count": 3,
   "metadata": {},
   "outputs": [],
   "source": [
    "def convert_processed_observation_to_board(processed_observation):\n",
    "    board = [[[\" \" for _ in range(4)] for _ in range(4)] for _ in range(4)]\n",
    "    for i, char in enumerate(processed_observation):\n",
    "        x = int((i % 16) % 4)\n",
    "        y = int((i % 16) / 4)\n",
    "        z = int(i / 16)\n",
    "\n",
    "        board[z][y][x] = char\n",
    "\n",
    "    return board"
   ]
  },
  {
   "cell_type": "code",
   "execution_count": 8,
   "metadata": {},
   "outputs": [],
   "source": [
    "env = TicTacToe(render_mode=\"human\")"
   ]
  },
  {
   "cell_type": "code",
   "execution_count": null,
   "metadata": {},
   "outputs": [],
   "source": [
    "# Initialized as a random policy for player 1\n",
    "\n",
    "\n",
    "def policy_player1(observation, action_space):\n",
    "    position = random.choice(action_space)\n",
    "\n",
    "    return position\n",
    "\n",
    "\n",
    "# Initialized as a random policy for player 2\n",
    "def policy_player2(observation, action_space):\n",
    "    position = random.choice(action_space)\n",
    "\n",
    "    return position"
   ]
  },
  {
   "cell_type": "code",
   "execution_count": null,
   "metadata": {},
   "outputs": [],
   "source": [
    "def play_one_game(policy_player1, policy_player2, render_mode=\"computer\"):\n",
    "    env = TicTacToe(render_mode)\n",
    "\n",
    "    terminated = 0\n",
    "    observation = [[[\" \" for _ in range(4)] for _ in range(4)] for _ in range(4)]\n",
    "    reward = 0\n",
    "    player_turn = \"X\"\n",
    "\n",
    "    winning_observation = reshape_observations(observation)\n",
    "    action = 0\n",
    "\n",
    "    while not terminated:\n",
    "        action_space = env.get_action_space()\n",
    "\n",
    "        if player_turn == \"X\":\n",
    "            action = policy_player1(observation, action_space)\n",
    "        else:\n",
    "            action = policy_player2(observation, action_space)\n",
    "\n",
    "        winning_observation = reshape_observations(observation)\n",
    "        observation, reward, terminated, player_turn = env.step(action)\n",
    "\n",
    "    return winning_observation, action, reward  # This is the player who won"
   ]
  },
  {
   "cell_type": "code",
   "execution_count": null,
   "metadata": {},
   "outputs": [],
   "source": [
    "file_path = \"output.csv\""
   ]
  },
  {
   "cell_type": "code",
   "execution_count": null,
   "metadata": {},
   "outputs": [],
   "source": [
    "for i in tqdm(range(100000)):\n",
    "    winning_observation, action, reward = play_one_game(policy_player1, policy_player2)\n",
    "\n",
    "    row = [winning_observation, action, reward]\n",
    "\n",
    "    with open(file_path, \"a\", newline=\"\") as file:\n",
    "        writer = csv.writer(file)\n",
    "        writer.writerow(row)"
   ]
  }
 ],
 "metadata": {
  "kernelspec": {
   "display_name": "Python 3",
   "language": "python",
   "name": "python3"
  },
  "language_info": {
   "codemirror_mode": {
    "name": "ipython",
    "version": 3
   },
   "file_extension": ".py",
   "mimetype": "text/x-python",
   "name": "python",
   "nbconvert_exporter": "python",
   "pygments_lexer": "ipython3",
   "version": "3.11.4"
  }
 },
 "nbformat": 4,
 "nbformat_minor": 2
}
